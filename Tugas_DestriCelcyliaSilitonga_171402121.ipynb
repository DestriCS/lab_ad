{
  "nbformat": 4,
  "nbformat_minor": 0,
  "metadata": {
    "colab": {
      "name": "DestriCelcyliaSilitonga_171402121.ipynb",
      "provenance": [],
      "collapsed_sections": []
    },
    "kernelspec": {
      "name": "python3",
      "display_name": "Python 3"
    }
  },
  "cells": [
    {
      "cell_type": "code",
      "metadata": {
        "id": "83rjk6MHZwhc",
        "colab_type": "code",
        "outputId": "e173d553-5e01-4ce7-b863-a82724c70e74",
        "colab": {
          "base_uri": "https://localhost:8080/",
          "height": 51
        }
      },
      "source": [
        "class  Fibonacci:\n",
        "  def hitung_fibonacci(self, x):\n",
        "    if (x==0):\n",
        "        return 0\n",
        "    elif (x<=2):\n",
        "        return 1\n",
        "    else:\n",
        "        fib = (self.hitung_fibonacci(x-1)+self.hitung_fibonacci(x-2))\n",
        "        return fib \n",
        "      \n",
        "p1 = Fibonacci()\n",
        "nilai = int (input(\"Masukkan nilai: \"))\n",
        "for i in range (0,nilai):\n",
        "      print(p1.hitung_fibonacci(i))"
      ],
      "execution_count": 19,
      "outputs": [
        {
          "output_type": "stream",
          "text": [
            "Masukkan nilai: 1\n",
            "0\n"
          ],
          "name": "stdout"
        }
      ]
    },
    {
      "cell_type": "code",
      "metadata": {
        "id": "YPjaBzM2WdKW",
        "colab_type": "code",
        "colab": {}
      },
      "source": [
        ""
      ],
      "execution_count": 0,
      "outputs": []
    }
  ]
}